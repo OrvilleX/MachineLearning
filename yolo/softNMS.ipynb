{
 "cells": [
  {
   "cell_type": "markdown",
   "metadata": {},
   "source": [
    "首先通过下方安装依赖\n",
    "pip install torch==2.4.1 torchvision==0.19.1 torchaudio==2.4.1 --index-url https://download.pytorch.org/whl/cu121 "
   ]
  },
  {
   "cell_type": "code",
   "execution_count": null,
   "metadata": {},
   "outputs": [],
   "source": [
    "import torch\n",
    "import numpy as np"
   ]
  },
  {
   "cell_type": "markdown",
   "metadata": {},
   "source": [
    "实现对应soft_nms函数"
   ]
  },
  {
   "cell_type": "code",
   "execution_count": null,
   "metadata": {},
   "outputs": [],
   "source": [
    "\n",
    "def soft_nms(dets, box_scores, iou_thr=0.5, method=2, sigma=0.5, thresh=0.001, cuda=0):\n",
    "    \"\"\"\n",
    "    基于Pytorch实现的Soft-NMS算法\n",
    "    :param dets:        框的位置坐标，需要采用tensor并以格式 [y1, x1, y2, x2] 输入\n",
    "    :param box_scores:  每个框的置信度\n",
    "    :param iou_thr:     IOU阈值要求\n",
    "    :param method:      计算类型，1线性，2高斯, 3原始\n",
    "    :param sigma:       使用高斯函数的方差\n",
    "    :param thresh:      分数阈值\n",
    "    :param cuda:        是否可以使用CUDA计算\n",
    "\n",
    "    :return: keep: 选择的框的索引\n",
    "    \"\"\"\n",
    "\n",
    "    # Indexes concatenate boxes with the last column\n",
    "    N = dets.shape[0]\n",
    "    if cuda:\n",
    "        indexes = torch.arange(0, N, dtype=torch.float).cuda().view(N, 1)\n",
    "    else:\n",
    "        indexes = torch.arange(0, N, dtype=torch.float).view(N, 1)\n",
    "    dets = torch.cat((dets, indexes), dim=1)\n",
    "\n",
    "    # The order of boxes coordinate is [y1,x1,y2,x2]\n",
    "    y1 = dets[:, 0]\n",
    "    x1 = dets[:, 1]\n",
    "    y2 = dets[:, 2]\n",
    "    x2 = dets[:, 3]\n",
    "    scores = box_scores\n",
    "    areas = (x2 - x1 + 1) * (y2 - y1 + 1)\n",
    "\n",
    "    for i in range(N):\n",
    "        # intermediate parameters for later parameters exchange\n",
    "        tscore = scores[i].clone()\n",
    "        pos = i + 1\n",
    "\n",
    "        if i != N - 1:\n",
    "            maxscore, maxpos = torch.max(scores[pos:], dim=0)\n",
    "            if tscore < maxscore:\n",
    "                dets[i], dets[maxpos.item() + i + 1] = dets[maxpos.item() + i + 1].clone(), dets[i].clone()\n",
    "                scores[i], scores[maxpos.item() + i + 1] = scores[maxpos.item() + i + 1].clone(), scores[i].clone()\n",
    "                areas[i], areas[maxpos + i + 1] = areas[maxpos + i + 1].clone(), areas[i].clone()\n",
    "\n",
    "        # IoU calculate\n",
    "        yy1 = np.maximum(dets[i, 0].to(\"cpu\").numpy(), dets[pos:, 0].to(\"cpu\").numpy())\n",
    "        xx1 = np.maximum(dets[i, 1].to(\"cpu\").numpy(), dets[pos:, 1].to(\"cpu\").numpy())\n",
    "        yy2 = np.minimum(dets[i, 2].to(\"cpu\").numpy(), dets[pos:, 2].to(\"cpu\").numpy())\n",
    "        xx2 = np.minimum(dets[i, 3].to(\"cpu\").numpy(), dets[pos:, 3].to(\"cpu\").numpy())\n",
    "\n",
    "        w = np.maximum(0.0, xx2 - xx1 + 1)\n",
    "        h = np.maximum(0.0, yy2 - yy1 + 1)\n",
    "        inter = torch.tensor(w * h).cuda() if cuda else torch.tensor(w * h)\n",
    "        ovr = torch.div(inter, (areas[i] + areas[pos:] - inter))\n",
    "\n",
    "        # Three methods: 1.linear 2.gaussian 3.original NMS\n",
    "        if method == 1:  # linear\n",
    "            weight = np.ones(ovr.shape)\n",
    "            weight[ovr > iou_thr] = weight[ovr > iou_thr] - ovr[ovr > iou_thr]\n",
    "        elif method == 2:  # gaussian\n",
    "            weight = np.exp(-(ovr * ovr) / sigma)\n",
    "        else:  # original NMS\n",
    "            weight = np.ones(ovr.shape)\n",
    "            weight[ovr > iou_thr] = 0\n",
    "        scores[pos:] = weight * scores[pos:]\n",
    "\n",
    "    # select the boxes and keep the corresponding indexes\n",
    "    keep = dets[:, 4][scores > thresh].int()\n",
    "\n",
    "    return keep"
   ]
  },
  {
   "cell_type": "markdown",
   "metadata": {},
   "source": [
    "进行实际调用使用"
   ]
  },
  {
   "cell_type": "code",
   "execution_count": null,
   "metadata": {},
   "outputs": [],
   "source": [
    "if __name__ == '__main__':\n",
    "    boxes = torch.tensor([[200, 200, 400, 400],\n",
    "                          [220, 220, 420, 420],\n",
    "                          [200, 240, 400, 440],\n",
    "                          [240, 200, 440, 400],\n",
    "                          [1, 1, 2, 2]], dtype=torch.float)\n",
    "    boxscores = torch.tensor([0.8, 0.7, 0.6, 0.5, 0.9], dtype=torch.float)\n",
    "\n",
    "    # cuda flag\n",
    "    cuda = 1 if torch.cuda.is_available() else 0\n",
    "    if cuda:\n",
    "        boxes = boxes.cuda()\n",
    "        boxscores = boxscores.cuda()\n",
    "\n",
    "    print(soft_nms(boxes, boxscores, cuda=cuda))"
   ]
  }
 ],
 "metadata": {
  "language_info": {
   "name": "python"
  }
 },
 "nbformat": 4,
 "nbformat_minor": 2
}
