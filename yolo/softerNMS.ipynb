{
 "cells": [
  {
   "cell_type": "code",
   "execution_count": null,
   "metadata": {},
   "outputs": [],
   "source": [
    "import numpy as np"
   ]
  },
  {
   "cell_type": "markdown",
   "metadata": {},
   "source": [
    "实现其中核心的算法"
   ]
  },
  {
   "cell_type": "code",
   "execution_count": null,
   "metadata": {},
   "outputs": [],
   "source": [
    "\n",
    "def softer_nms(dets, confidence=None, thresh=0.01, sigma=0.5, ax=None):\n",
    "\n",
    "    N = len(dets)\n",
    "    x1 = dets[:, 0].copy()\n",
    "    y1 = dets[:, 1].copy()\n",
    "    x2 = dets[:, 2].copy()\n",
    "    y2 = dets[:, 3].copy()\n",
    "    scores = dets[:, 4].copy()\n",
    "    areas = (x2 - x1 + 1) * (y2 - y1 + 1)\n",
    "    ious = np.zeros((N, N))\n",
    "    kls = np.zeros((N, N))\n",
    "    for i in range(N):\n",
    "        xx1 = np.maximum(x1[i], x1)\n",
    "        yy1 = np.maximum(y1[i], y1)\n",
    "        xx2 = np.minimum(x2[i], x2)\n",
    "        yy2 = np.minimum(y2[i], y2)\n",
    "\n",
    "        w = np.maximum(0.0, xx2 - xx1 + 1.)\n",
    "        h = np.maximum(0.0, yy2 - yy1 + 1.)\n",
    "        inter = w * h\n",
    "        ovr = inter / (areas[i] + areas - inter)\n",
    "        ious[i, :] = ovr.copy()\n",
    "\n",
    "    i = 0\n",
    "    while i < N:\n",
    "        maxpos = dets[i:N, 4].argmax()\n",
    "        maxpos += i\n",
    "        dets[[maxpos, i]] = dets[[i, maxpos]]\n",
    "        confidence[[maxpos, i]] = confidence[[i, maxpos]]\n",
    "        ious[[maxpos, i]] = ious[[i, maxpos]]\n",
    "        ious[:, [maxpos, i]] = ious[:, [i, maxpos]]\n",
    "\n",
    "        ovr_bbox = np.where((ious[i, i:N] > thresh))[0] + i\n",
    "\n",
    "        pos = i + 1\n",
    "        while pos < N:\n",
    "            if ious[i, pos] > 0:\n",
    "                ovr = ious[i, pos]\n",
    "                dets[pos, 4] *= np.exp(-(ovr * ovr) / sigma)\n",
    "                if dets[pos, 4] < 0.001:\n",
    "                    dets[[pos, N - 1]] = dets[[N - 1, pos]]\n",
    "                    confidence[[pos, N - 1]] = confidence[[N - 1, pos]]\n",
    "                    ious[[pos, N - 1]] = ious[[N - 1, pos]]\n",
    "                    ious[:, [pos, N - 1]] = ious[:, [N - 1, pos]]\n",
    "                    N -= 1\n",
    "                    pos -= 1\n",
    "            pos += 1\n",
    "        i += 1\n",
    "    keep = [i for i in range(N)]\n",
    "    return dets[keep], keep"
   ]
  },
  {
   "cell_type": "markdown",
   "metadata": {},
   "source": [
    "通过模拟的数据进行测试验证"
   ]
  },
  {
   "cell_type": "code",
   "execution_count": null,
   "metadata": {},
   "outputs": [],
   "source": [
    "\n",
    "if __name__ == '__main__':\n",
    "    # 创建测试数据\n",
    "    test_boxes = np.array([\n",
    "        [100, 100, 200, 200, 0.9],  # x1, y1, x2, y2, score\n",
    "        [110, 110, 210, 210, 0.8],\n",
    "        [120, 120, 220, 220, 0.7],\n",
    "        [130, 130, 230, 230, 0.6],\n",
    "        [200, 200, 300, 300, 0.95],\n",
    "    ], dtype=np.float32)\n",
    "    \n",
    "    # 创建置信度数组（可选）\n",
    "    confidence = np.array([0.9, 0.85, 0.75, 0.65, 0.95])\n",
    "    \n",
    "    # 设置参数\n",
    "    thresh = 0.3      # IoU阈值\n",
    "    sigma = 0.5       # 高斯函数的sigma参数\n",
    "    \n",
    "    print(\"原始检测框：\")\n",
    "    print(\"格式：[x1, y1, x2, y2, score]\")\n",
    "    for i, box in enumerate(test_boxes):\n",
    "        print(f\"Box {i+1}: {box}, confidence: {confidence[i]:.3f}\")\n",
    "    \n",
    "    # 运行Softer-NMS\n",
    "    filtered_boxes, keep_indices = softer_nms(\n",
    "        dets=test_boxes,\n",
    "        confidence=confidence,\n",
    "        thresh=thresh,\n",
    "        sigma=sigma\n",
    "    )\n",
    "    \n",
    "    print(\"\\nSofter-NMS 后的检测框：\")\n",
    "    print(\"格式：[x1, y1, x2, y2, score]\")\n",
    "    for i, box in enumerate(filtered_boxes):\n",
    "        print(f\"Box {i+1}: {box}, confidence: {confidence[keep_indices[i]]:.3f}\")\n",
    "    \n",
    "    # 输出统计信息\n",
    "    print(\"\\n统计信息：\")\n",
    "    print(f\"原始检测框数量: {len(test_boxes)}\")\n",
    "    print(f\"过滤后检测框数量: {len(filtered_boxes)}\")\n",
    "    print(f\"使用的IoU阈值: {thresh}\")\n",
    "    print(f\"使用的sigma值: {sigma}\")\n",
    "    \n",
    "    # 计算保留率\n",
    "    retention_rate = len(filtered_boxes) / len(test_boxes) * 100\n",
    "    print(f\"检测框保留率: {retention_rate:.1f}%\")"
   ]
  }
 ],
 "metadata": {
  "language_info": {
   "name": "python"
  }
 },
 "nbformat": 4,
 "nbformat_minor": 2
}
